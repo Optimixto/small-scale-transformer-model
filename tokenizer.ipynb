{
 "cells": [
  {
   "cell_type": "code",
   "execution_count": null,
   "metadata": {},
   "outputs": [],
   "source": [
    "!pip install pandas sentencepiece datasets"
   ]
  },
  {
   "cell_type": "code",
   "execution_count": 12,
   "metadata": {},
   "outputs": [],
   "source": [
    "#imports\n",
    "import pandas as pd\n",
    "import sentencepiece as spm\n",
    "import os\n",
    "from datasets import load_dataset, Dataset, DatasetDict, load_from_disk"
   ]
  },
  {
   "cell_type": "code",
   "execution_count": 13,
   "metadata": {},
   "outputs": [
    {
     "name": "stderr",
     "output_type": "stream",
     "text": [
      "Found cached dataset spanish_billion_words (d:/SRH/Thesis/Project/input/spanish_billion_words/corpus/1.1.0/8ba50a854d61199f7d36b4c3f598589a2f8b493a2644b88ce80adb2cebcbc107)\n"
     ]
    },
    {
     "data": {
      "application/vnd.jupyter.widget-view+json": {
       "model_id": "a403c3a3df524f0fb4fe4de9468dc11e",
       "version_major": 2,
       "version_minor": 0
      },
      "text/plain": [
       "  0%|          | 0/1 [00:00<?, ?it/s]"
      ]
     },
     "metadata": {},
     "output_type": "display_data"
    },
    {
     "data": {
      "text/plain": [
       "[Dataset({\n",
       "     features: ['text'],\n",
       "     num_rows: 5000000\n",
       " })]"
      ]
     },
     "execution_count": 13,
     "metadata": {},
     "output_type": "execute_result"
    }
   ],
   "source": [
    "# Loading the dataset used for training\n",
    "dataset = load_dataset(\"spanish_billion_words\", split = ['train[:5000000]'])\n",
    "\n",
    "dataset\n",
    "\n",
    "#dataset.save_to_disk('spanish_words_dataset')"
   ]
  },
  {
   "cell_type": "code",
   "execution_count": 14,
   "metadata": {},
   "outputs": [
    {
     "name": "stdout",
     "output_type": "stream",
     "text": [
      "Source Wikisource librodot com SENTIDO Y SENSIBILIDAD JANE AUSTEN CAPITULO I\n",
      "La familia Dashwood llevaba largo tiempo afincada en Sussex\n",
      "Su propiedad era de buen tamaño y en el centro de ella se encontraba la residencia Norland Park donde la manera tan digna en que habían vivido por muchas generaciones llegó a granjearles el respeto de todos los conocidos del lugar\n",
      "El último dueño de esta propiedad había sido un hombre soltero que alcanzó una muy avanzada edad y que durante gran parte de su existencia tuvo en su hermana una fiel compañera y ama de casa\n"
     ]
    }
   ],
   "source": [
    "train_df = dataset[0].to_pandas()\n",
    "\n",
    "for i in range(0,4):\n",
    "    first_row_text = train_df.iloc[i]['text']\n",
    "    print(first_row_text)"
   ]
  },
  {
   "cell_type": "code",
   "execution_count": 15,
   "metadata": {},
   "outputs": [],
   "source": [
    "# Creating train data file\n",
    "file_path = \"input/raw_corpus.txt\"\n",
    "\n",
    "if os.path.exists(file_path):\n",
    "    os.remove(file_path)\n",
    "\n",
    "train_text = train_df[\"text\"].tolist()\n",
    "\n",
    "with open(\"input/raw_corpus.txt\", \"w\") as f:\n",
    "    for sentence in train_text:\n",
    "        f.write(sentence + \"\\n\")"
   ]
  },
  {
   "cell_type": "code",
   "execution_count": 16,
   "metadata": {},
   "outputs": [],
   "source": [
    "# train SentencePiece tokenizer on the text data \n",
    "spm.SentencePieceTrainer.train(input=\"raw_corpus.txt\", model_prefix='spanish_lm', vocab_size=10000, user_defined_symbols=['<pad>'], treat_whitespace_as_suffix=True)"
   ]
  },
  {
   "cell_type": "code",
   "execution_count": 17,
   "metadata": {},
   "outputs": [
    {
     "name": "stdout",
     "output_type": "stream",
     "text": [
      "0    [50, 3111, 778, 7548, 51, 3111, 778, 2275, 157...\n",
      "1    [32, 716, 1111, 1452, 9103, 5000, 833, 190, 74...\n",
      "2    [530, 1629, 81, 4, 868, 2550, 9, 8, 10, 287, 4...\n",
      "3    [28, 685, 5680, 4, 71, 1629, 174, 184, 16, 509...\n",
      "4    [225, 6, 729, 4, 321, 6090, 217, 2428, 70, 106...\n",
      "Name: text, dtype: object\n"
     ]
    }
   ],
   "source": [
    "# using the trained model to tokenize data\n",
    "# load the trained SentencePiece model\n",
    "sp = spm.SentencePieceProcessor()\n",
    "sp.load(\"spanish_lm.model\")\n",
    "\n",
    "# encode the text data using the SentencePiece model\n",
    "train_df['text'] = train_df['text'].apply(lambda x: sp.Encode(x))\n",
    "\n",
    "print(train_df['text'].head())"
   ]
  },
  {
   "cell_type": "code",
   "execution_count": 18,
   "metadata": {},
   "outputs": [
    {
     "data": {
      "text/html": [
       "<div>\n",
       "<style scoped>\n",
       "    .dataframe tbody tr th:only-of-type {\n",
       "        vertical-align: middle;\n",
       "    }\n",
       "\n",
       "    .dataframe tbody tr th {\n",
       "        vertical-align: top;\n",
       "    }\n",
       "\n",
       "    .dataframe thead th {\n",
       "        text-align: right;\n",
       "    }\n",
       "</style>\n",
       "<table border=\"1\" class=\"dataframe\">\n",
       "  <thead>\n",
       "    <tr style=\"text-align: right;\">\n",
       "      <th></th>\n",
       "      <th>label</th>\n",
       "      <th>cleaned_text</th>\n",
       "    </tr>\n",
       "  </thead>\n",
       "  <tbody>\n",
       "    <tr>\n",
       "      <th>0</th>\n",
       "      <td>N</td>\n",
       "      <td>portada publico viernes fabra banquillo orden ...</td>\n",
       "    </tr>\n",
       "    <tr>\n",
       "      <th>1</th>\n",
       "      <td>NONE</td>\n",
       "      <td>grande periodista alguien quiere contar realid...</td>\n",
       "    </tr>\n",
       "    <tr>\n",
       "      <th>2</th>\n",
       "      <td>P+</td>\n",
       "      <td>gonzalo altozano tras presentacion libro cient...</td>\n",
       "    </tr>\n",
       "    <tr>\n",
       "      <th>3</th>\n",
       "      <td>N</td>\n",
       "      <td>mañana gaceta tve pagamos culpa becaria falsa ...</td>\n",
       "    </tr>\n",
       "    <tr>\n",
       "      <th>4</th>\n",
       "      <td>NONE</td>\n",
       "      <td>envidia pedro mañana mañana voy paris almendra...</td>\n",
       "    </tr>\n",
       "  </tbody>\n",
       "</table>\n",
       "</div>"
      ],
      "text/plain": [
       "  label                                       cleaned_text\n",
       "0     N  portada publico viernes fabra banquillo orden ...\n",
       "1  NONE  grande periodista alguien quiere contar realid...\n",
       "2    P+  gonzalo altozano tras presentacion libro cient...\n",
       "3     N  mañana gaceta tve pagamos culpa becaria falsa ...\n",
       "4  NONE  envidia pedro mañana mañana voy paris almendra..."
      ]
     },
     "execution_count": 18,
     "metadata": {},
     "output_type": "execute_result"
    }
   ],
   "source": [
    "cleaned_dataset = pd.read_csv('./input/cleaned_dataset.csv')\n",
    "\n",
    "cleaned_dataset.set_index([\"label\", \"cleaned_text\"])\n",
    "\n",
    "cleaned_dataset.head()"
   ]
  },
  {
   "cell_type": "code",
   "execution_count": 19,
   "metadata": {},
   "outputs": [
    {
     "name": "stdout",
     "output_type": "stream",
     "text": [
      "Text: tal aqui animado\n",
      "[497, 37, 6326, 1743, 29]\n",
      "Decoded: tal aqui animado \n",
      "\n",
      "Text: aqui gran guru bienvenido fuerte abrazo\n",
      "[37, 6326, 193, 5883, 349, 195, 54, 4070, 998, 37, 4586]\n",
      "Decoded: aqui gran guru bienvenido fuerte abrazo \n",
      "\n",
      "Text: bdias dentro hora cope hablaremos cumbre europea posible retraso jubilacion garzon psoe\n",
      "[144, 84, 39, 551, 603, 2470, 30, 1476, 1175, 4062, 2875, 485, 7063, 5192, 1887, 1053, 316, 354, 101, 433, 30]\n",
      "Decoded: bdias dentro hora cope hablaremos cumbre europea posible retraso jubilacion garzon psoe \n",
      "\n",
      "Text: cuantos recuerdos ver gran roberto carlos bernabeutristeza ver años pasan ilusion ver grande roberto\n",
      "[7179, 8382, 281, 193, 1429, 115, 105, 268, 12, 675, 684, 657, 99, 9378, 281, 70, 5930, 8710, 17, 281, 1352, 1429, 115, 105]\n",
      "Decoded: cuantos recuerdos ver gran roberto carlos bernabeutristeza ver años pasan ilusion ver grande roberto \n",
      "\n",
      "Text: ventas campaña navideña gozan repunte nueve sevilla especial centro\n",
      "[3583, 1358, 2605, 397, 2383, 2139, 42, 31, 1648, 30, 2194, 7692, 851, 788, 287]\n",
      "Decoded: ventas campaña navideña gozan repunte nueve sevilla especial centro \n",
      "\n"
     ]
    }
   ],
   "source": [
    "random_rows = cleaned_dataset.sample(5)\n",
    "\n",
    "for index, row in random_rows.iterrows():\n",
    "    text = row['cleaned_text']\n",
    "    encoded = sp.encode_as_ids(text)\n",
    "    decoded = sp.DecodeIds(encoded)\n",
    "    print(\"Text: \"+ text)\n",
    "    print(encoded)\n",
    "    print(\"Decoded: \" + decoded + \"\\n\")"
   ]
  }
 ],
 "metadata": {
  "kernelspec": {
   "display_name": "Thesis",
   "language": "python",
   "name": "python3"
  },
  "language_info": {
   "codemirror_mode": {
    "name": "ipython",
    "version": 3
   },
   "file_extension": ".py",
   "mimetype": "text/x-python",
   "name": "python",
   "nbconvert_exporter": "python",
   "pygments_lexer": "ipython3",
   "version": "3.10.9"
  },
  "orig_nbformat": 4,
  "vscode": {
   "interpreter": {
    "hash": "b5ea09fb112f6f6b890abad0863e7bd5ff7cc7157255d224f3ac7f70a6747825"
   }
  }
 },
 "nbformat": 4,
 "nbformat_minor": 2
}
